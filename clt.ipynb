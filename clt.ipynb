{
 "cells": [
  {
   "cell_type": "code",
   "execution_count": 1,
   "metadata": {},
   "outputs": [],
   "source": [
    "import numpy as np\n",
    "import matplotlib.pyplot as plt\n",
    "from ipywidgets import interact, widgets\n",
    "\n",
    "#%matplotlib widgetsnbextension"
   ]
  },
  {
   "cell_type": "markdown",
   "metadata": {},
   "source": [
    "Low of large numbers\n",
    "\n",
    "make another axampe with different experiment type."
   ]
  },
  {
   "cell_type": "code",
   "execution_count": 2,
   "metadata": {},
   "outputs": [
    {
     "data": {
      "application/vnd.jupyter.widget-view+json": {
       "model_id": "cf3bd2858dad4c9ab7ef226461f3b46f",
       "version_major": 2,
       "version_minor": 0
      },
      "text/plain": [
       "interactive(children=(IntSlider(value=1000, description='sample_size', max=10000, min=10, step=10), Output()),…"
      ]
     },
     "metadata": {},
     "output_type": "display_data"
    }
   ],
   "source": [
    "# Function to simulate coin flips\n",
    "def simulate_coin_flips(sample_size):\n",
    "    outcomes = np.random.randint(0, 2, sample_size)\n",
    "    return np.cumsum(outcomes) / np.arange(1, sample_size+1)\n",
    "\n",
    "# Interactive plot\n",
    "@interact(sample_size=widgets.IntSlider(min=10, max=10000, step=10, value=1000))\n",
    "def plot_law_of_large_numbers(sample_size):\n",
    "    plt.figure(figsize=(10, 6))\n",
    "    plt.title(\"Law of Large Numbers\")\n",
    "    plt.xlabel(\"Sample Size\")\n",
    "    plt.ylabel(\"Proportion of Heads\")\n",
    "\n",
    "    proportions = simulate_coin_flips(sample_size)\n",
    "    plt.plot(range(1, sample_size+1), proportions, label=\"Proportion of Heads\")\n",
    "    plt.axhline(y=0.5, color='r', linestyle='--', label=\"True Probability (0.5)\")\n",
    "\n",
    "    plt.legend()\n",
    "    plt.show()"
   ]
  },
  {
   "cell_type": "markdown",
   "metadata": {},
   "source": [
    "CLT: Central Limit Theorem"
   ]
  },
  {
   "cell_type": "code",
   "execution_count": 3,
   "metadata": {},
   "outputs": [
    {
     "data": {
      "application/vnd.jupyter.widget-view+json": {
       "model_id": "66b7bc444f0b442dad2144dce8ca11b8",
       "version_major": 2,
       "version_minor": 0
      },
      "text/plain": [
       "interactive(children=(IntSlider(value=10, description='Sample Size', min=1), IntSlider(value=100, description=…"
      ]
     },
     "metadata": {},
     "output_type": "display_data"
    },
    {
     "data": {
      "text/plain": [
       "<function __main__.plot_histogram(sample_size, num_samples, num_trials)>"
      ]
     },
     "execution_count": 3,
     "metadata": {},
     "output_type": "execute_result"
    }
   ],
   "source": [
    "\n",
    "def generate_sample(sample_size, num_samples, num_trials):\n",
    "    means = []\n",
    "    for _ in range(num_trials):\n",
    "        #samples = np.random.randn(num_samples, sample_size)\n",
    "        samples = np.random.rand(num_samples, sample_size)\n",
    "        samples = np.random.exponential(scale=1.0, size=(num_samples, sample_size))\n",
    "        sample_means = np.mean(samples, axis=1)\n",
    "        means.extend(sample_means)\n",
    "    return means\n",
    "\n",
    "def plot_histogram(sample_size, num_samples, num_trials):\n",
    "    sample_means = generate_sample(sample_size, num_samples, num_trials)\n",
    "    plt.figure(figsize=(10, 6))\n",
    "    plt.hist(sample_means, bins=30, density=True, alpha=0.75, color='blue', edgecolor='black')\n",
    "    plt.title('Central Limit Theorem')\n",
    "    plt.xlabel('Sample Mean')\n",
    "    plt.ylabel('Probability Density')\n",
    "    plt.show()\n",
    "\n",
    "interact(\n",
    "    plot_histogram,\n",
    "    sample_size=widgets.IntSlider(min=1, max=100, step=1, value=10, description='Sample Size'),\n",
    "    num_samples=widgets.IntSlider(min=1, max=100, step=1, value=100, description='Number of Samples'),\n",
    "    num_trials=widgets.IntSlider(min=1, max=100, step=1, value=1000, description='Number of Trials')\n",
    ")\n"
   ]
  },
  {
   "cell_type": "code",
   "execution_count": 4,
   "metadata": {},
   "outputs": [
    {
     "data": {
      "application/vnd.jupyter.widget-view+json": {
       "model_id": "1eb87c06cbeb48b7a4d102d914075d72",
       "version_major": 2,
       "version_minor": 0
      },
      "text/plain": [
       "interactive(children=(IntSlider(value=10, description='Sample Size', max=50, min=1), Output()), _dom_classes=(…"
      ]
     },
     "metadata": {},
     "output_type": "display_data"
    },
    {
     "data": {
      "text/plain": [
       "<function __main__.plot_distribution(sample_size)>"
      ]
     },
     "execution_count": 4,
     "metadata": {},
     "output_type": "execute_result"
    }
   ],
   "source": [
    "import matplotlib.pyplot as plt\n",
    "import numpy as np\n",
    "from ipywidgets import interact, widgets\n",
    "\n",
    "def generate_samples(sample_size, num_samples):\n",
    "    sample_means = []\n",
    "    generated_means = []\n",
    "    generated_variances = []\n",
    "    \n",
    "    for _ in range(num_samples):\n",
    "        means = np.random.uniform(5, 15, sample_size)  # Generate n different means\n",
    "        variances = np.random.uniform(1, 5, sample_size)  # Generate n different variances\n",
    "        samples = np.random.normal(means, np.sqrt(variances))\n",
    "        sample_means.append(np.mean(samples))\n",
    "        generated_means.extend(means)\n",
    "        generated_variances.extend(variances)\n",
    "    return sample_means, generated_means, generated_variances\n",
    "\n",
    "def plot_distribution(sample_size):\n",
    "    num_samples = 1000\n",
    "    sample_means, generated_means, generated_variances = generate_samples(sample_size, num_samples)\n",
    "    \n",
    "    plt.figure(figsize=(15, 5))\n",
    "    \n",
    "    plt.subplot(1, 3, 1)\n",
    "    plt.hist(generated_means, bins=30, density=True, alpha=0.75, color='green', edgecolor='black')\n",
    "    plt.title('Generated Means')\n",
    "    plt.xlabel('Mean Value')\n",
    "    plt.ylabel('Probability Density')\n",
    "    \n",
    "    plt.subplot(1, 3, 2)\n",
    "    plt.hist(generated_variances, bins=30, density=True, alpha=0.75, color='purple', edgecolor='black')\n",
    "    plt.title('Generated Variances')\n",
    "    plt.xlabel('Variance Value')\n",
    "    plt.ylabel('Probability Density')\n",
    "    \n",
    "    plt.subplot(1, 3, 3)\n",
    "    plt.hist(sample_means, bins=30, density=True, alpha=0.75, color='blue', edgecolor='black')\n",
    "    plt.title(f'Sample Means (Sample Size = {sample_size})')\n",
    "    plt.xlabel('Sample Mean')\n",
    "    plt.ylabel('Probability Density')\n",
    "    \n",
    "    plt.tight_layout()\n",
    "    plt.show()\n",
    "\n",
    "interact(\n",
    "    plot_distribution,\n",
    "    sample_size=widgets.IntSlider(min=1, max=50, step=1, value=10, description='Sample Size')\n",
    ")\n"
   ]
  },
  {
   "cell_type": "code",
   "execution_count": 5,
   "metadata": {},
   "outputs": [
    {
     "data": {
      "application/vnd.jupyter.widget-view+json": {
       "model_id": "920b6419a699408cac8cf4848dceecac",
       "version_major": 2,
       "version_minor": 0
      },
      "text/plain": [
       "interactive(children=(IntSlider(value=10, description='Sample Size', max=50, min=1), Dropdown(description='Dis…"
      ]
     },
     "metadata": {},
     "output_type": "display_data"
    },
    {
     "data": {
      "text/plain": [
       "<function __main__.plot_distribution(sample_size, distribution)>"
      ]
     },
     "execution_count": 5,
     "metadata": {},
     "output_type": "execute_result"
    }
   ],
   "source": [
    "import matplotlib.pyplot as plt\n",
    "import numpy as np\n",
    "from ipywidgets import interact, widgets\n",
    "\n",
    "def generate_samples(sample_size, num_samples, distribution):\n",
    "    sample_means = []\n",
    "    generated_values = []\n",
    "    \n",
    "    for _ in range(num_samples):\n",
    "        if distribution == 'Normal':\n",
    "            means = np.random.uniform(5, 15, sample_size)\n",
    "            variances = np.random.uniform(1, 5, sample_size)\n",
    "            samples = np.random.normal(means, np.sqrt(variances))\n",
    "            generated_values.extend(samples)\n",
    "        elif distribution == 'Uniform':\n",
    "            samples = np.random.uniform(5, 15, sample_size)\n",
    "            generated_values.extend(samples)\n",
    "        elif distribution == 'Exponential':\n",
    "            samples = np.random.exponential(5, sample_size)\n",
    "            generated_values.extend(samples)\n",
    "        elif distribution == 'Poisson':\n",
    "            samples = np.random.poisson(10, sample_size)\n",
    "            generated_values.extend(samples)\n",
    "        elif distribution == 'Gamma':\n",
    "            samples = np.random.gamma(2, 2, sample_size)\n",
    "            generated_values.extend(samples)\n",
    "        elif distribution == 'Beta':\n",
    "            samples = np.random.beta(2, 5, sample_size)\n",
    "            generated_values.extend(samples)\n",
    "\n",
    "        sample_means.append(np.mean(samples))\n",
    "        \n",
    "    return sample_means, generated_values\n",
    "\n",
    "def plot_distribution(sample_size, distribution):\n",
    "    num_samples = 1000\n",
    "    sample_means, generated_values = generate_samples(sample_size, num_samples, distribution)\n",
    "    \n",
    "    plt.figure(figsize=(15, 5))\n",
    "    \n",
    "    plt.subplot(1, 2, 1)\n",
    "    plt.hist(generated_values, bins=30, density=True, alpha=0.75, color='green', edgecolor='black')\n",
    "    plt.title(f'Generated Values ({distribution})')\n",
    "    plt.xlabel('Value')\n",
    "    plt.ylabel('Probability Density')\n",
    "    \n",
    "    plt.subplot(1, 2, 2)\n",
    "    plt.hist(sample_means, bins=30, density=True, alpha=0.75, color='blue', edgecolor='black')\n",
    "    plt.title(f'Sample Means (Sample Size = {sample_size})')\n",
    "    plt.xlabel('Sample Mean')\n",
    "    plt.ylabel('Probability Density')\n",
    "    \n",
    "    plt.tight_layout()\n",
    "    plt.show()\n",
    "\n",
    "interact(\n",
    "    plot_distribution,\n",
    "    sample_size=widgets.IntSlider(min=1, max=50, step=1, value=10, description='Sample Size'),\n",
    "    distribution=widgets.Dropdown(\n",
    "        options=['Normal', 'Uniform', 'Exponential', 'Poisson', 'Gamma', 'Beta'],\n",
    "        value='Normal',\n",
    "        description='Distribution'\n",
    "    )\n",
    ")\n"
   ]
  },
  {
   "cell_type": "markdown",
   "metadata": {},
   "source": [
    "sum of independet and normally distributed random variables tends to be normal"
   ]
  },
  {
   "cell_type": "code",
   "execution_count": 6,
   "metadata": {},
   "outputs": [
    {
     "data": {
      "application/vnd.jupyter.widget-view+json": {
       "model_id": "41a679368e474dd9b5b5b9394d703843",
       "version_major": 2,
       "version_minor": 0
      },
      "text/plain": [
       "interactive(children=(IntSlider(value=10, description='n', min=1), IntSlider(value=10, description='Num Sample…"
      ]
     },
     "metadata": {},
     "output_type": "display_data"
    },
    {
     "data": {
      "text/plain": [
       "<function __main__.plot_sum_of_normals(n, num_samples)>"
      ]
     },
     "execution_count": 6,
     "metadata": {},
     "output_type": "execute_result"
    }
   ],
   "source": [
    "import numpy as np\n",
    "import matplotlib.pyplot as plt\n",
    "from ipywidgets import interact, widgets\n",
    "\n",
    "def sum_of_normals_with_random_params(n, num_samples):\n",
    "    # Generate random means and variances for n random variables\n",
    "    means = np.random.uniform(0, 10, n)  # Random means between 0 and 10\n",
    "    variances = np.random.uniform(1, 5, n)  # Random variances between 1 and 5\n",
    "    \n",
    "    # Calculate theoretical mean and standard deviation\n",
    "    theoretical_mean = np.sum(means)  # Sum of random means\n",
    "    theoretical_std = np.sqrt(np.sum(variances))  # Square root of sum of variances\n",
    "    \n",
    "    # Generate n independent random variables with random means and variances\n",
    "    random_variables = np.random.normal(means, np.sqrt(variances), (num_samples, n))\n",
    "    \n",
    "    # Compute the sum for each sample\n",
    "    sum_of_randoms = np.sum(random_variables, axis=1)\n",
    "    \n",
    "    return sum_of_randoms, theoretical_mean, theoretical_std\n",
    "\n",
    "def plot_sum_of_normals(n, num_samples):\n",
    "    # Simulate the sum of normals with random parameters\n",
    "    sum_results, theoretical_mean, theoretical_std = sum_of_normals_with_random_params(n, num_samples)\n",
    "\n",
    "    # Create a histogram\n",
    "    plt.figure(figsize=(10, 6))\n",
    "    plt.hist(sum_results, bins=30, density=True, color='blue', alpha=0.7, label='Simulated Distribution')\n",
    "\n",
    "    # Generate theoretical normal distribution\n",
    "    x = np.linspace(theoretical_mean - 3*theoretical_std, theoretical_mean + 3*theoretical_std, 100)\n",
    "    plt.plot(x, 1/(theoretical_std * np.sqrt(2 * np.pi)) * np.exp( - (x - theoretical_mean)**2 / (2 * theoretical_std**2) ), linewidth=2, color='red', label='Theoretical Distribution')\n",
    "\n",
    "    plt.title('Sum of Randomly Generated Normally Distributed Random Variables')\n",
    "    plt.xlabel('Sum')\n",
    "    plt.ylabel('Density')\n",
    "    plt.legend()\n",
    "    plt.show()\n",
    "\n",
    "# Define sliders\n",
    "n_slider = widgets.IntSlider(value=10, min=1, max=100, step=1, description='n')\n",
    "num_samples_slider = widgets.IntSlider(value=10, min=1, max=10000, step=5, description='Num Samples')\n",
    "\n",
    "# Create interactive widget\n",
    "interact(plot_sum_of_normals, n=n_slider, num_samples=num_samples_slider)\n"
   ]
  },
  {
   "cell_type": "code",
   "execution_count": null,
   "metadata": {},
   "outputs": [],
   "source": []
  }
 ],
 "metadata": {
  "kernelspec": {
   "display_name": "Python 3",
   "language": "python",
   "name": "python3"
  },
  "language_info": {
   "codemirror_mode": {
    "name": "ipython",
    "version": 3
   },
   "file_extension": ".py",
   "mimetype": "text/x-python",
   "name": "python",
   "nbconvert_exporter": "python",
   "pygments_lexer": "ipython3",
   "version": "3.10.9"
  },
  "orig_nbformat": 4
 },
 "nbformat": 4,
 "nbformat_minor": 2
}
